{
 "cells": [
  {
   "cell_type": "code",
   "execution_count": 22,
   "metadata": {},
   "outputs": [
    {
     "name": "stdout",
     "output_type": "stream",
     "text": [
      "[0, 0, 0, 0, 0, 0, 0, 0, 0, 0, 0, 0, 0, 0, 0, 0, 0, 0, 0, 0, 0, 0, 0, 0, 0, 0, 0, 0, 0, 0, 0, 0, 0, 0, 0, 0, 0, 0, 0, 0, 0, 0, 0, 0, 0, 0, 0, 0, 0, 0, 0, 0, 0, 0, 0, 0, 0, 0, 0, 0, 0, 0, 0, 0, 0, 0, 0, 0, 0, 0, 0, 0, 0, 0, 0, 0, 0, 0, 0, 0, 0, 0, 0, 0, 0, 0, 0, 0, 0, 0, 0, 0, 0, 0, 0, 0, 0, 0, 0, 0]\n",
      "Where place ship:1\n",
      "Where place ship:2\n",
      "Where place ship:3\n",
      "Where place ship:4\n",
      "Where place ship:5\n",
      "9, 5\n",
      "Missed\n",
      "[1, 1, 1, 1, 1, 0, 0, 0, 0, 0, 0, 0, 0, 0, 0, 0, 0, 0, 0, 0, 0, 0, 0, 0, 0, 0, 0, 0, 0, 0, 0, 0, 0, 0, 0, 0, 0, 0, 0, 0, 0, 0, 0, 0, 0, 0, 0, 0, 0, 0, 0, 0, 0, 0, 0, 0, 0, 0, 0, 0, 0, 0, 0, 0, 0, 0, 0, 0, 0, 0, 0, 0, 0, 0, 0, 0, 0, 0, 0, 0, 0, 0, 0, 0, 3, 0, 0, 0, 0, 0, 0, 0, 0, 0, 0, 0, 0, 0, 0, 0]\n",
      "1 1 1 1 1 0 0 0 0 0\n",
      "0 0 0 0 0 0 0 0 0 0\n",
      "0 0 0 0 0 0 0 0 0 0\n",
      "0 0 0 0 0 0 0 0 0 0\n",
      "0 0 0 0 0 0 0 0 0 0\n",
      "0 0 0 0 0 0 0 0 0 0\n",
      "0 0 0 0 0 0 0 0 0 0\n",
      "0 0 0 0 0 0 0 0 0 0\n",
      "0 0 0 0 3 0 0 0 0 0\n",
      "0 0 0 0 0 0 0 0 0 0\n"
     ]
    }
   ],
   "source": [
    "### import random\n",
    "Rows = 10\n",
    "Columns = 10\n",
    "shipPositions = []\n",
    "\n",
    "def initialize(r, c):  \n",
    "    numberPositions = r*c\n",
    "\n",
    "    for i in range(numberPositions):\n",
    "        shipPositions.append(0)\n",
    "\n",
    "    print(shipPositions)\n",
    "    \n",
    "def checkHit(r, c):\n",
    "    global Rows\n",
    "    global Columns\n",
    "    hitPosition = (r-1)*Columns + c\n",
    "    if shipPositions[hitPosition-1] == 1:\n",
    "        print(\"Ship hit\")\n",
    "        shipPositions[hitPosition-1] = 2\n",
    "    if shipPositions[hitPosition-1] == 0:\n",
    "        print(\"Missed\")\n",
    "        shipPositions[hitPosition-1] = 3\n",
    "    print(shipPositions)\n",
    "\n",
    "\n",
    "def placeShips():\n",
    "    for a in range(5):\n",
    "        placeShip = int(input(\"Where place ship:\"))\n",
    "        shipPositions[placeShip-1] = 1\n",
    "        #print(shipPositions)\n",
    "\n",
    "def enemyGuess():\n",
    "    guessR = random.randint(1, 10)\n",
    "    guessC = random.randint(1, 10)\n",
    "    print(str(guessR) +\", \" + str(guessC))\n",
    "    return guessR, guessC\n",
    "\n",
    "\n",
    "initialize(Rows, Columns)\n",
    "placeShips()\n",
    "g1, g2 = enemyGuess()\n",
    "checkHit(g1, g2)\n",
    "sp = shipPositions\n",
    "lineEnd = \" \"\n",
    "\n",
    "for d in range(1, Rows+1):\n",
    "    for e in range(1, Columns+1):\n",
    "        if (e) == 10:\n",
    "            lineEnd = \"\\n\"\n",
    "        else:\n",
    "            lineEnd = \" \"\n",
    "        print(sp[((d-1)*Rows+e)-1], end = lineEnd)\n",
    "\n",
    "\n",
    "        \n",
    "    \n",
    "\n"
   ]
  },
  {
   "cell_type": "code",
   "execution_count": null,
   "metadata": {},
   "outputs": [],
   "source": []
  }
 ],
 "metadata": {
  "kernelspec": {
   "display_name": "Python 3",
   "language": "python",
   "name": "python3"
  },
  "language_info": {
   "codemirror_mode": {
    "name": "ipython",
    "version": 3
   },
   "file_extension": ".py",
   "mimetype": "text/x-python",
   "name": "python",
   "nbconvert_exporter": "python",
   "pygments_lexer": "ipython3",
   "version": "3.6.7"
  }
 },
 "nbformat": 4,
 "nbformat_minor": 2
}
